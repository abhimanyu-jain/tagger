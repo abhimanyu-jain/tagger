{
 "cells": [
  {
   "cell_type": "code",
   "execution_count": 1,
   "metadata": {},
   "outputs": [
    {
     "name": "stdout",
     "output_type": "stream",
     "text": [
      "['functionalareas', 'skills']\n"
     ]
    }
   ],
   "source": [
    "from pymongo import MongoClient\n",
    "from bson.objectid import ObjectId\n",
    "client = MongoClient('127.0.0.1:27017')\n",
    "db = client.the_incircle_dev_new\n",
    "print(db.list_collection_names())"
   ]
  },
  {
   "cell_type": "code",
   "execution_count": 2,
   "metadata": {},
   "outputs": [
    {
     "name": "stdout",
     "output_type": "stream",
     "text": [
      "[ObjectId('5f7ef8d57d5d3a013307dded'), ObjectId('5f7ef8d67d5d3a013307de08'), ObjectId('5f7ef8d67d5d3a013307de1d'), ObjectId('5f7ef8d87d5d3a013307def2'), ObjectId('5f7ef94e7d5d3a0133080f9a'), ObjectId('5f7ef9987d5d3a0133083055'), ObjectId('5f7ef9b07d5d3a0133083b17'), ObjectId('5f7ef9c67d5d3a01330844ad'), ObjectId('5f7ef9c67d5d3a01330844bc'), ObjectId('5f7ef9c67d5d3a01330844d7'), ObjectId('5f7ef9c67d5d3a01330844e9'), ObjectId('5f7ef9c87d5d3a0133084567'), ObjectId('5f7ef9c87d5d3a013308456a'), ObjectId('5f7ef9c87d5d3a013308456d'), ObjectId('5f7ef9c87d5d3a0133084573'), ObjectId('5f7ef9c87d5d3a013308457c'), ObjectId('5f7ef9c87d5d3a013308457f'), ObjectId('5f7ef9c87d5d3a0133084582'), ObjectId('5f7ef9c87d5d3a0133084585'), ObjectId('5f7ef9c87d5d3a0133084588'), ObjectId('5f7ef9d97d5d3a0133084d3b'), ObjectId('5f7ef9fe7d5d3a0133085daf'), ObjectId('5f7efa037d5d3a0133085fda'), ObjectId('5f7efa237d5d3a0133086e35'), ObjectId('5f7efa2d7d5d3a01330872ee'), ObjectId('5f7efa367d5d3a0133087705'), ObjectId('5f7efa367d5d3a0133087708'), ObjectId('5f7efa667d5d3a0133088cbf'), ObjectId('5f7efa6d7d5d3a0133089001'), ObjectId('5f7efab87d5d3a013308b194'), ObjectId('5f7efaca7d5d3a013308b950'), ObjectId('5f7eface7d5d3a013308bb7e'), ObjectId('5f7efadb7d5d3a013308c118'), ObjectId('5f7efb107d5d3a013308d84c'), ObjectId('5f7efb107d5d3a013308d855'), ObjectId('5f7efb527d5d3a013308f6b2'), ObjectId('5f7efb547d5d3a013308f763'), ObjectId('5f7efb547d5d3a013308f766'), ObjectId('5f7efb6c7d5d3a0133090240'), ObjectId('5f7efb737d5d3a01330905c7'), ObjectId('5f7efbac7d5d3a0133091ffb'), ObjectId('5f7efbbc7d5d3a01330926f1'), ObjectId('5f7efbd97d5d3a013309346e'), ObjectId('5f7efbde7d5d3a01330936cc'), ObjectId('5f7efbf97d5d3a0133094302'), ObjectId('5f7efc317d5d3a0133095c1c'), ObjectId('5f7efcba7d5d3a0133099a0e'), ObjectId('5f7efcd47d5d3a013309a5c9'), ObjectId('5f85809ca59cb734d359f62a'), ObjectId('5f8c5c14268fae13b04f83c7'), ObjectId('5f8ec6ae5cfa4d64addafaa2'), ObjectId('5f8ec6ae5cfa4d64addafaa2'), ObjectId('5fa6bf05301f616de1ae9de2'), ObjectId('5feed2dc55c49c060b7be1ad'), ObjectId('602f53b39bc9eb48e598d757')]\n"
     ]
    }
   ],
   "source": [
    "dic = {}\n",
    "\n",
    "for skill in db.skills.find():\n",
    "    name = skill['name']\n",
    "    words = name.split()\n",
    "    _id = skill['_id']\n",
    "    for word in words:\n",
    "        if word in dic:\n",
    "            lst = dic[word]\n",
    "        else:\n",
    "            lst = []\n",
    "        lst.append(_id)\n",
    "        dic[name] = lst\n",
    "\n",
    "print(dic['Accounting'])"
   ]
  },
  {
   "cell_type": "code",
   "execution_count": 3,
   "metadata": {},
   "outputs": [
    {
     "name": "stdout",
     "output_type": "stream",
     "text": [
      "\"5ff950f868130d34c7869870\"\n"
     ]
    }
   ],
   "source": [
    "import xlrd\n",
    "from bson.objectid import ObjectId\n",
    "\n",
    "loc = (\"skills-single-parent-active.xls\")\n",
    "wb = xlrd.open_workbook(loc)\n",
    "sheet = wb.sheet_by_index(0)\n",
    "print(sheet.cell_value(15287, 1))"
   ]
  },
  {
   "cell_type": "code",
   "execution_count": 7,
   "metadata": {},
   "outputs": [
    {
     "name": "stdout",
     "output_type": "stream",
     "text": [
      "Number of ids :  15287\n",
      "Number of names :  15287\n"
     ]
    }
   ],
   "source": [
    "# Iterate over sheet and create lists of ids and skill names\n",
    "\n",
    "lst_ids = []\n",
    "lst_names = []\n",
    "\n",
    "max_rows = 15288\n",
    "\n",
    "\n",
    "for row in range(1, max_rows):\n",
    "    _id = str(sheet.cell_value(row, 1))\n",
    "    _id = _id[1:len(_id)-1]\n",
    "    name = sheet.cell_value(row, 2)\n",
    "\n",
    "    lst_ids.append(_id)\n",
    "    lst_names.append(name)\n",
    "    \n",
    "\n",
    "print('Number of ids : ',len(lst_ids))\n",
    "print('Number of names : ', len(lst_names))"
   ]
  },
  {
   "cell_type": "code",
   "execution_count": 8,
   "metadata": {},
   "outputs": [
    {
     "name": "stdout",
     "output_type": "stream",
     "text": [
      "['Nail', 'Artist']\n"
     ]
    }
   ],
   "source": [
    "name_to_list_of_words_mapping = {}\n",
    "\n",
    "for name in lst_names:\n",
    "    name_to_list_of_words_mapping[name] = name.split()\n",
    "    \n",
    "print(name_to_list_of_words_mapping['Nail Artist'])"
   ]
  },
  {
   "cell_type": "code",
   "execution_count": 17,
   "metadata": {},
   "outputs": [
    {
     "name": "stdout",
     "output_type": "stream",
     "text": [
      "15287\n"
     ]
    }
   ],
   "source": [
    "name_to_list_of_possible_skills_mapping = {}\n",
    "\n",
    "for name in name_to_list_of_words_mapping:\n",
    "    words = name_to_list_of_words_mapping[name]\n",
    "    \n",
    "    possible_skills = set([])\n",
    "    \n",
    "    for word in words:\n",
    "        if(word in dic):\n",
    "            skill_possibilities = dic[word]\n",
    "            for sp in skill_possibilities:\n",
    "                possible_skills.add(sp)\n",
    "            \n",
    "    name_to_list_of_possible_skills_mapping[name] = possible_skills\n",
    "    \n",
    "print(len(name_to_list_of_possible_skills_mapping))"
   ]
  },
  {
   "cell_type": "code",
   "execution_count": 24,
   "metadata": {},
   "outputs": [
    {
     "name": "stdout",
     "output_type": "stream",
     "text": [
      "5f7efb2c7d5d3a013308e536\n",
      "5f7ef8f27d5d3a013307e954\n",
      "5f7ef9467d5d3a0133080c67\n",
      "5f7efad27d5d3a013308bcf8\n",
      "5f7ef9157d5d3a013307f7ee\n",
      "5f7ef9457d5d3a0133080c1f\n",
      "60c8b23dcc7d2e13f73e2acd\n",
      "5f7ef9577d5d3a01330813c6\n",
      "5f7efb117d5d3a013308d8cd\n",
      "5f7efa7b7d5d3a013308960a\n",
      "5f7ef9147d5d3a013307f767\n",
      "5f7efd0c7d5d3a013309bf25\n",
      "5f7ef8f17d5d3a013307e909\n",
      "5f7ef8f87d5d3a013307eba3\n",
      "5f7ef9927d5d3a0133082dc7\n",
      "5f7ef9357d5d3a0133080505\n",
      "5f7ef9217d5d3a013307fd1c\n",
      "5f7ef8e57d5d3a013307e432\n",
      "5f7ef8e37d5d3a013307e375\n",
      "60c8b2f0cc7d2e13f73e2b81\n",
      "5f7ef8fc7d5d3a013307ed71\n",
      "5f7ef9107d5d3a013307f60e\n",
      "5f7efa337d5d3a0133087567\n",
      "5f7ef9567d5d3a013308130c\n",
      "5f7efc907d5d3a01330986fa\n",
      "5f7ef8e37d5d3a013307e372\n",
      "5f7ef91e7d5d3a013307fb75\n",
      "5f7ef97e7d5d3a01330824d9\n",
      "5f7ef9367d5d3a01330805bf\n",
      "5f7efa6e7d5d3a013308901f\n",
      "5f7ef93c7d5d3a0133080802\n",
      "5f7ef9137d5d3a013307f746\n",
      "5f7ef9147d5d3a013307f75b\n",
      "5f7efa157d5d3a01330867db\n",
      "5f7ef8e37d5d3a013307e381\n",
      "5f7ef8e57d5d3a013307e444\n",
      "5f7ef9127d5d3a013307f6bc\n",
      "5f7ef9207d5d3a013307fc7a\n",
      "603cf93a16a1a644f008ca78\n",
      "5f7ef8e37d5d3a013307e37e\n",
      "5f7ef9557d5d3a013308129a\n",
      "5f7ef9297d5d3a0133080025\n",
      "5f7efaa67d5d3a013308a963\n",
      "5f7ef9897d5d3a013308297a\n",
      "5f7ef9457d5d3a0133080c10\n",
      "5f7ef9157d5d3a013307f812\n",
      "5f7efb197d5d3a013308dc63\n",
      "5f7ef9297d5d3a0133080037\n",
      "5f7ef8e37d5d3a013307e36f\n",
      "5f7ef9927d5d3a0133082d8e\n",
      "5f7ef9377d5d3a0133080604\n",
      "5f7ef9f27d5d3a013308582d\n",
      "5f7ef9257d5d3a013307fecf\n",
      "5f7ef9467d5d3a0133080c76\n",
      "5f7efa687d5d3a0133088d61\n",
      "5f7ef94a7d5d3a0133080e05\n",
      "5f7efc677d5d3a01330974df\n",
      "5f7efcfa7d5d3a013309b748\n",
      "5f7ef9657d5d3a01330819c9\n",
      "5f7efb687d5d3a01330900b4\n",
      "5f7ef9227d5d3a013307fd7f\n"
     ]
    }
   ],
   "source": [
    "x = name_to_list_of_possible_skills_mapping['Social Worker']\n",
    "\n",
    "for val in x:\n",
    "    print(val)\n",
    "    #print(db.skills.find_one({'_id' : ObjectId(val)})['name'])"
   ]
  },
  {
   "cell_type": "code",
   "execution_count": 30,
   "metadata": {},
   "outputs": [
    {
     "name": "stdout",
     "output_type": "stream",
     "text": [
      "27447\n"
     ]
    }
   ],
   "source": [
    "# At this point, for each skill in the excel sheet, we have a list of skills that might be it's possible replacements\n",
    "# Now, we need to find parents for each of them\n",
    "\n",
    "# Use a Skill-parent dictionary so there are no repeats\n",
    "\n",
    "skill_parent_dict = {}\n",
    "\n",
    "#First process skills which don't have an official parent\n",
    "for skill in db.skills.find({'parent': {\"$exists\": False}}):\n",
    "    skill_parent_dict[skill['name']] = skill['name']\n",
    "\n",
    "print(len(skill_parent_dict))"
   ]
  },
  {
   "cell_type": "code",
   "execution_count": 32,
   "metadata": {},
   "outputs": [
    {
     "name": "stdout",
     "output_type": "stream",
     "text": [
      "33758\n"
     ]
    }
   ],
   "source": [
    "# Now let's process skills which do have a parent\n",
    "for skill in db.skills.find({'parent': {\"$exists\": True}}):\n",
    "    parent = db.skills.find_one({'parent' : skill['parent']})\n",
    "    skill_parent_dict[skill['name']] = parent['name']\n",
    "    \n",
    "print(len(skill_parent_dict))"
   ]
  },
  {
   "cell_type": "code",
   "execution_count": 40,
   "metadata": {},
   "outputs": [
    {
     "name": "stdout",
     "output_type": "stream",
     "text": [
      "{'Aws Cloud Engineer', 'Automation Plc Engineer', 'Executive Service Engineer', 'Securitu System Service Engineer', 'Process Control Engineer', ' Site Civil Engineer', 'BMS Service Engineer', 'Facilities Engineer', 'Estimation & Billing Engineer', 'Procurement Engineer', 'Field Maintenance Engineer', 'LIDAR Engineer', 'Lead Program Manager', 'Field Application Engineer', 'L1 Engineer', ' Electronic And Communication Engineer', ' Automotive Quality Engineer', 'ISP Engineer', 'Linux System Engineer', 'Safety Engineer', 'Trainee Network Engineer', 'Engineer Application Development', 'Senior Testing commissioning Engineer', 'IT Software Engineer', 'Installation & Service Engineer', 'Engineer Worker', 'Executive Production Engineer', 'Research & Development Software Engineer', 'Diploma Mechanical Engineer , NDT Inspection , Welding Inspection', 'Help Desk Engineer', 'Printed Circuit Board Design Engineer', 'Reverse Engineer', 'Cam Engineer', 'QA Lead', 'Mechanicial Engineer', 'Lead Quality Assurance Engineer', 'Engineer with exp in Projects in managing team', 'ASIC Design Engineer', 'E Leaning Support Engineer', 'Application Engineer Technical Support', 'Sophos firewall Engineer Requirement', 'Site Execution Engineer', 'Sales &amp; Service Engineer', 'Application Software Engineer', 'Assistant Engineer at simplex infrastructures ltd', 'Assistant Design Engineer', 'UI Engineer', 'Associate Customer Engineer', 'Usfd Engineer', 'HVAC Site/Service Engineer', 'Senior Research & Development Engineer', 'Lead Associate', 'Design & Verification Engineer', 'Network Surveillance Engineer', 'Communication Lead Generation', 'Hardware & Network Support Engineer', 'Jr. Engineer', 'Executive Engineer Electrical', 'Lead Learning and development', 'DSP Engineer', 'Diploma Trainee Engineer', 'Senior Quality Assurance Analyst', 'Application Specific Integrated Circuit Design Engineer', 'Engineer Engineering', 'IBMS Engineer', 'Technical Lead Manager', 'Biometric Engineer', 'Resident Sales Engineer', 'Design Engineer Mechanical', 'Software Application Engineer', 'Software Team Lead', 'sr.production Engineer', 'FPGA Engineer', ' Maintenance Engineer', 'Civil Project Engineer', 'Cad Cam Engineer (Tool Room)', 'System Design Engineer', 'Research And Development Engineer', 'Electrical Automation Engineer', 'Vision Engineer', 'Configuration Engineer', 'Customer Technical Support Engineer', 'Digital Electronic Engineer', 'Senior Engineer Marketing', 'Pcb Testing Engineer', 'Application Specific Integrated Circuit Engineer', 'Sales and Marketing Engineer', 'Data Warehouse Engineer', 'Technical Trainee Engineer', 'Lead cabin crew', 'Devops Engineer', 'ASIC Design Verification Engineer', 'Engineer and architect', 'Associate System Engineer', 'Development Support Engineer', 'SQA Engineer II', 'Core Engineer', 'Entry Level Engineer', 'Web Development Engineer', 'Deputy Chief Engineer', 'Civil/Finishing Engineer', 'Software Development Team Lead', 'Technician & Engineer', 'Senior Data Engineer', 'Printer Engineer', 'Customer Care Engineer', 'Sr Environment Engineer', 'Device Engineer', 'QA Test Lead', 'Hardware &amp; Network Support Engineer', 'Security Software Engineer', 'Manufacturing Process Engineer', 'Embedded R & D Engineer', 'Geographic Information Systems Engineer', 'Software Security Engineer', 'Heat Treatment Engineer', 'Deputy Engineer', '    \\t\\t\\t\\t\\t\\t\\t\\t\\t\\t\\t\\t\\t       \\t\\t\\t\\t\\t\\t\\t\\t\\t\\t\\t\\t\\t\\t   Manufacturing Engineer', 'Embedded Firmware Engineer', 'L2 Support Engineer', 'Avs Engineer', 'Senior User Interface Engineer', 'Computer Engineer', 'Junior System Engineer', 'IT System Engineer', 'Civil / Structural Engineer', 'Barcode Engineer', 'Senior Staff Engineer', 'Principal Product Engineer', 'Material Engineer', 'Civil Maintenance Engineer', ' Calibration Engineer', 'Product Design Engineer', 'Software Engineer / DevOps', 'Operating Systems Engineer', 'Server Engineer', ' CAD CAM Engineer', 'RF Lead', 'Photocopier Machine Service Engineer', 'Execution Engineer', 'Senior Hardware Engineer', 'Assistant Quality Engineer', 'Remote Desktop Support Engineer', 'Lead Mechanical Engineer', 'Staff Engineer', 'Junior Engineer Civil', ' Automation Lead', 'Quality Control Lead', 'Fire Project Engineer', 'Sr Engineer', 'System Integration Engineer', 'Cleaning Engineer', 'Circuit Simulation Engineer', 'Technical  Engineer', 'Civil Engineer', 'Tool Design Engineer', 'Marine Engineer', 'Transport Engineer', 'Principal Engineer - Plumbing and Fire Fighting / MEP Project Manager', 'Domain Engineer', 'Process Quality Engineer', 'Support Lead', 'Desktop Engineer L1', 'Fire Protection Engineer', 'Talent Acquisition Lead', 'Installation & Commissioning Engineer', 'Procurement /Supply Chain Engineer', 'Quality Assurance Automation Engineer', 'Recruitment Lead', 'QA QC Mechanical Engineer', 'Fire & Safety Engineer', 'Auto Cad Planing Engineer', 'Performance Engineer', 'Assembly Engineer', 'Manual Test Engineer', 'Customer Support Engineer', 'Line Engineer', 'FPGA Design Engineer', 'IT Desktop Engineer', 'Assistant Project Engineer', 'Maintenance', 'Principal Engineer', 'IT Technical Support Engineer', 'Research & Development Embedded Engineer', 'Developer', 'Environmental Engineer', 'Electrial Engineer', 'Foundry Engineer', 'Graphic Engineer', 'Sr Project Engineer', 'Electrical & Instrumentation Engineer', 'Lead IT Recruiter', 'Utility Engineer', 'Diploma Electrical Engineer', 'Operating Engineer', 'IT infra Lead', 'IT Desktop Support Engineer', 'Associate Network Engineer', 'Senior Sourcing Engineer', 'Assistant Software Engineer', 'PLM Engineer', 'Automation Testing Engineer', 'Electronics Quality Engineer', 'IQC Engineer', 'Electronics Service Engineer', 'Process Safety Engineer', 'User Experience Lead', 'Computer Hardware & Networking Engineer', 'Operating System Engineer', 'Quality Engineer QAQC for construction', 'Engineer Internship', 'Lead Information Technology Specialist', 'Lead Engineer', 'Lead DBA', 'Senior Application Specific Integrated Circuit Design Engineer', 'Traffic Engineer', 'Power Electronics Engineer', 'Lead Field Pipeline Engineer', 'Engineer Electrical Cable', 'Senior Customer Engineer', 'Professional Services Engineer', 'Quality Assurance Automation Lead', 'Production &amp; Quality Control Engineer', 'Online Reputation Engineer', ' Computer Hardware And Software Engineer', 'Mechanical Engineer Trainee', 'Design & Production Engineer', 'Telesales Team Lead', 'Maintainance civil  Engineer', 'Research Analysis', 'Chip Level Hardware Engineer', 'Fms Engineer', 'RAndD Engineer', 'Trainee Civil Engineer', 'Back Office Executive', 'Senior Firmware Engineer', 'DCS Engineer', 'Sub Engineer', 'Electrical Service Engineer', 'Civil Engineer,site engineer, project Engineer', 'Frontend Engineer', 'Data Engineer', '    \\t\\t\\t\\t\\t\\t\\t\\t\\t\\t\\t\\t\\t       \\t\\t\\t\\t\\t\\t\\t\\t\\t\\t\\t\\t\\t\\t      \\t\\t\\t\\t\\t\\t\\t\\t\\t\\t\\t\\t\\t       \\t\\t\\t\\t\\t\\t\\t\\t\\t\\t\\t\\t\\t\\t   Team Lead', 'Site Engineer Plumbing', 'Senior Field Service Engineer', 'Mud Engineer', 'Drilling Fluid Engineer', 'Basic Design & Verification Engineer', 'Contract Engineer', 'IT Service Engineer', 'Telecommunications Engineer', 'Senior Systems Engineer', 'Robotic Engineer', 'Shift Team Lead', 'Verification Engineer', 'BSS O&M Engineer', 'District Engineer', 'Analog Layout Engineer', 'Lighting Application Engineer', 'Piping Stress Engineer', 'Lead Developer', 'Utility Maintenance Engineer', 'Senior Leader Engineer', 'RF Dt Engineer', 'Atm Desktop Engineer', 'Design & Estimation Engineer', 'Astronautical Engineer', 'Embedded System Engineer', 'Senior Hardware Design Engineer', 'Technical Development Lead', 'Marketing Engineer', 'Backhaul Engineer', 'ERP Engineer', 'Civil & Structural Engineer', 'Information Technology Infrastructure Engineer', 'Maintainance Engineer', 'Senior Software Engineer', 'Civil Construction Site Engineer', 'Mechanical Engineer or office work', 'Technical Marketing Engineer', 'PLC Engineer', 'Lead Graphic Designer', 'Machine Learning Engineer', 'Senior Team Lead', 'Voice Engineer', 'Turing System Validation Engineer', 'Road Engineer', 'Av Engineer', 'Plant Engineer', 'Civil Engineer Site Engineer', 'Principal Software Engineer', 'Tunnel Design Engineer', 'Process Quality Control Engineer', 'Associate Engineer', 'MBA Engineer', 'Sound Engineer', 'CCTV  Engineer', 'Lead Generator', 'Network & Hardware Engineer', 'Planning & Billing Engineer', 'Intellectual Property Engineer', 'Zonal Engineer', 'Bsc Engineer', 'R & D Engineer', 'Architect', 'Maintenance Engineer and quality engineer ; side engg.. Manufacturing', 'Junior Software Engineer', 'Fresher Civil Engineer fresher mechanical engineer', 'Assistant Technical Engineer', 'L2 Network Engineer', 'Cathodic Protection Engineer', 'Broadband Engineer', 'Engineer ,assistant manager', 'Hardware & Networking Engineer', 'Trainee Engineer', 'Lead Architect', 'Associate Software Engineer', 'Design & Quality Engineer', ' Mechanical Engineer Production', 'Lead Bench sales recruiter', 'Lead Software Engineer', 'Operation & Maintenance Engineer', 'Embedded Project Engineer', 'Senior Production Engineer', 'Costing Design Engineer', 'Component Engineer', 'Chemical Production Engineer', 'Senior Staff Software Engineer', ' Radio Engineer', 'Lead verifier', ' Radio Frequency Engineer', 'Autoclave Service Engineer', 'Planning & Scheduling Engineer', 'Sales Support Engineer', 'Sr. Project Engineer', 'Associate Sales Engineer Analyst', 'Network & System Engineer', 'Remote Support Engineer', 'Senior Services Engineer', 'Civil Engineer Draftsman', 'Lead Business Analyst', 'Executive Design Engineer', 'Sr Sales Engineer', 'Analysis Engineer', 'Civil Engineer site', 'Area Engineer', 'Circuit Design Engineer', 'Steam Tubine Control Engineer', 'Implementation Engineer', 'Assistant Material Engineer', 'Pipeline Design Engineer', 'Trainee Electrical Engineer', 'Automotive Engineer', 'Software Quality Assurance Lead', 'Quality Assurance Engineer', 'ASIC Engineer', 'Associate Electrical Engineer', 'Juniour Engineer', 'CNC Engineer', 'Reservoir Engineer', 'Service Team Lead', 'Technology Team Lead', 'Lead HR Talent Acquisition', 'Senior Automation Engineer', 'Erection & Commissioning Engineer', 'Technical Lead Product Development', 'Design and Stress Engineer (Mechanical)', 'Repair Engineer', 'Electrical CAD Engineer', 'Executive Engineer Civil', 'Associate System Support Engineer', 'Drive Test Engineer', 'Coating Engineer', 'Application Support Engineer', 'Cost Engineer', 'Signal Processing Engineer', 'Embedded Trainee Engineer', 'Tool Development Engineer', 'Civil  site Engineer', 'Refrigeration Engineer', 'Jr Test Engineer', 'Team Lead Business Development', 'Fresher Junior Assistant Engineer', 'Hardware Design Engineer', 'Lead Software Architect', 'Networking', 'Junior Assistant Engineer', 'Senior R & D Engineer', 'Senior Software Quality Assurance Engineer', 'Mechanical design Engineer trainee', 'Application for Mechanical Engineer', 'Lead Flight attendant', 'Area Service Engineer', 'Instrument Maintenance Engineer', 'Senior Engineer PPC', 'Pipeline Engineer', 'Executive Engineer Mechanical', 'Senior Principal Software Engineer', '    \\t\\t\\t\\t\\t\\t\\t\\t\\t\\t\\t\\t\\t       \\t\\t\\t\\t\\t\\t\\t\\t\\t\\t\\t\\t\\t\\t   Mechanical  Quality Engineer', 'Industrial Engineer', 'Panel Engineer', 'Reliability Engineer', 'Senior Engineer Maintenance', 'Head Engineer', 'QA QC Electrical Engineer', 'Desktop Supporting Engineer', 'I & C Engineer', 'Senior Sales Engineer', 'Design & Development Engineer', 'Civil Engineer ( billing)', 'R&D Engineer and Lead Manufacturing Engineer', 'Electrical & Instrument Engineer', 'Search Engine Optimisation /SEO Lead', 'Onsite Engineer', 'ITI Electrical Engineer lecturer', 'EHS Engineer', 'Test Manager or Sr. Test Lead', 'Technical Sales', 'Senior Quality Engineer', 'Senior Engineer Mechanical', 'Apprentice Engineer', 'Heating And Air Conditioning Engineer', 'Software Developer, software Engineer', 'Diploma In Mechanical Engineer', 'Software Validation Engineer', 'Research & Development Engineer', 'Lead Quality Analyst', 'Product Development Lead', 'NPD Engineer', 'Mechanical Inspection Engineer', 'Mechanical  Maintenance Engineer', 'User Interface Engineer', 'Verification Lead', 'Erection Engineer', 'Executive Engineer  Piping', 'Production &amp; Maintenance Engineer', 'IT Support Engineer and IT Asset Management', 'CMM Engineer', 'Content Strategy Lead', '    \\t\\t\\t\\t\\t\\t\\t\\t\\t\\t\\t\\t\\t       \\t\\t\\t\\t\\t\\t\\t\\t\\t\\t\\t\\t\\t\\t   Calibration Engineer', 'Layout Engineer', 'Embedded Design Engineer', 'Scientist Engineer', ' Lead Generation ', 'Job Engineer', 'Senior Lead', 'Highway Design Engineer', 'Quality Lead', 'Configuration Management Engineer', 'Sr. systems Engineer', 'Sr.Implementation Engineer', 'Electronics Design Engineer', 'Senior Highway Engineer', 'Teacher', 'Cost Estimation and Bid management Engineer', 'Network Design Engineer', 'SIM Engineer PPU', 'Mechanical Maintenance Manager / Engineer', 'Security Lead', 'SAP Lead', 'Transmission Engineer', 'Technical Application Engineer', 'Engineer Project Management', 'Diploma Engineer Trainee', 'Sales Lead Manager', 'Laptop Engineer, Mobile Engineer', 'Lead Researcher', 'CNC Service Engineer', ' Testing Engineer', 'Firmware Engineer', 'Medical Equipment Service Engineer', 'Machine Maintenance EngineerEmbroidery Machine Engineer', 'Engineer - plant engineering', 'Deployment Engineer', 'Associate Robotics Engineer', 'Mould Development Engineer', 'Trainee Chemical Engineer', 'QC Engineer', 'Hardware Networking Engineer', 'Resident Support Engineer', 'Diploma Mechanical Engineer', 'Rf Drive Test Engineer', 'Air Conditioning Site Engineer', 'Software Test Engineer', 'Mechanical Design Engineer, Mechanical Engineer', 'Lead Instructional Designer', 'Utilities Engineer', 'Plc And Electrical Control Panel Engineer', 'Content Lead', 'Build Release Engineer', 'Autonomus Engineer', 'Senior Technical Support Engineer', 'Lead Software', 'Software Engineer in Quality Management', 'Assistant Safety Engineer', 'Software Engineer - I', 'Systems Engineer', 'Civil Engineer Design', 'Lead IT Recruiter - Talent Acquisition Specialist', 'Lead Analyst 2', 'Electronic Design Engineer', 'Equipment Engineer', 'Technology Lead', 'Condition Monitoring Engineer', 'Instrument & Control Engineer', 'Project Control Engineer', 'Hardware and Network Support Engineer', 'Resident Engineer', 'Senior Development Engineer', 'Production Engineer ,Inspection', 'Metallurgy Engineer', 'Senior Planning Engineer', 'Supplier Parts Quality Engineer in Honda', 'Sr.Project Engineer', 'Team Engineer', 'Sewerage Design Engineer', 'Lead Talent Acquisition', 'Ofc Engineer', 'Lead', 'Lead Logistics', 'Lead Web Developer', 'Aeronautical Engineer', 'Product Engineer /Design integrity', 'Power Engineer', 'Boiler Operation Engineer', 'Dt Engineer', 'Sr Design Engineer', 'Digital Design Engineer', '    \\t\\t\\t\\t\\t\\t\\t\\t\\t\\t\\t\\t\\t       \\t\\t\\t\\t\\t\\t\\t\\t\\t\\t\\t\\t\\t\\t   Planning Engineer', 'Agricultural Engineer', 'Project Engineer Solar Projects', 'Software Quality Engineer', 'Chief Engineer', 'Paint Shop Engineer', 'Assistant Resident Engineer', 'Senior Support Engineer', 'IT Infrastructure Engineer', 'Patent Engineer', 'Software Lead', 'Mep Engineer', 'Chemical Process Engineer', 'Information Technology Engineer', 'Technical Support Engineer - Telecom', 'Aerospace Systems Engineer', 'Engineer System Administrator', 'O&M Engineer', 'Senior Test Engineer', 'Engineer Grade II', 'QA Automation Engineer', 'Network Monitoring Engineer', 'Senior Testing Engineer', 'Desktop Support Engineer L2', 'Network Engineer desktop support engineer', 'Drilling Engineer', 'R&D Engineer', 'Senior Database Engineer', 'Senior QA Engineer', 'Team Lead Customer Service Operations', 'Senior Software Test Engineer', 'Embedded Development Engineer', 'Sr. Software Engineer', 'Engineer (Project)', 'Lead Product Engineer', 'Lead Database Administrator', 'Electrical Engineer ( Maintenance )', 'Production Planning and Control Engineer', 'Field Sales Engineer', 'CAD CAM Engineer', 'Pcb Design Engineer', 'Network Engineer L1', 'Quantity Surveyor and Planning Engineer', 'Team Lead Operations', ' Electronic Site Engineer', 'Processing Engineer', 'RF Survey Engineer', 'Development Operations Engineer', 'Lead beverage supervisor', 'System Development Engineer', 'Sr. Software Engineer Level 1', 'Network Operations Center Engineer', 'Lead Project Manager', 'Pre sales Engineer', 'Tools Design Engineer', 'Presales Engineer', 'Design Engineer Trainee', 'Project Billing Engineer', 'Structures Engineer', 'Hardware & Network Engineer', 'Civil Service Engineer', 'Associate Service Engineer', ' IQC Engineer', 'CADD Engineer', 'Cad Engineer', 'Research & Development Design Engineer', ' Mechanical Site Engineer', 'Vendor Development Engineer', 'Sr. Escalation Engineer', 'Tool Engineer', 'IT Security Engineer', 'Assistant Production Engineer', 'Lead Member Of Technical Staff', 'Ai Engineer', 'Executive Engineer Support', 'Chip Level Engineer', 'Lead Piping Engineer', 'Senior Physical Design Engineer', 'Molding Machine Maintenance Engineer', 'Senior Process Engineer', 'Mep Engineer (specialist in plumbing)', 'Trainee Operating Engineer', 'Electrical Engineer Site Supervisor', 'BMechanical Engineer', 'Field cum Design Engineer', 'Lead Finance', 'Freelance Software Engineer', 'Associate Technical Services Engineer', 'Senior Design Engineer', 'Facility Engineer', 'Layout Design Engineer', 'CTP Engineer', 'Sr. Production Engineer', 'Production and Quality Engineer', 'Storage Engineer', 'Staff Test Engineer', 'Computer Hardware & Network Engineer', 'Embedded Engineer Trainee', 'Senior Developer Technical Lead', 'Elect Engineer', 'Support Escalation Engineer', 'Associate Test Engineer', 'Civil Structural Engineer', 'Lead Product Manager', 'Release Engineer', 'Lead System Engineer', 'Sales & Service Engineer', 'Research & Development Engineer Trainee', 'Lead Instructor', 'Surveillance Engineer', 'Should handle a team of 8-10 Executives Responsible for Lead Generation for company’s product and services Should engage team in day-to-activities and scrutinize their respective works', 'Fresher Mechanical Engineer', 'ATL- Engineer', 'It Hardware And Network Engineer', 'Staff Software Engineer', 'Aviation Communications Engineer', 'Technical Team Lead', 'Office Engineer', 'Hadrware Engineer', 'Civil Engineer Diploma', 'Civil Engineer Project Manager', 'QC Mechanical Engineer', 'Electronics and Communication Engineer', 'Electrical Commissioning Engineer', 'UI Lead', 'PHP Team Lead', 'Electronic And Communication', 'Junior Electrical Engineer', ' Bsc Engineer', 'Lead Electrical Engineer', 'Lead System Architect', ' Cae Engineer', 'Program Lead', 'Research & Development Firmware Engineer', 'MEP Design Engineer', 'Customer Success Team Lead', 'project Lead Service Lead', 'Executive Resource Team Lead', 'Mechanical Engineer ( design and production )', 'Medical coder and Biomedical Engineer', 'Fiber Engineer', 'ASIC Verification Engineer', 'Design Verification Engineer', 'Assistant Systems Engineer', 'Field Operations Engineer', 'Software Quality Assurance Engineer', 'Hydraulic Engineer', 'Computer Aided Design Engineer', 'Field Services Engineer', 'Metallurgical Engineer', 'Machine Shop Engineer', 'L1 Technical Support Engineer', ' Software Application Engineer', 'Operations Mechanic Chief Engineer', 'Electrical & Electronics Engineer', 'Escalation Engineer', 'Radio Frequency Engineer', 'Dft Engineer', 'System Project Lead', 'Fresher Civil Engineer', 'Automation Engineer', 'Modeling Engineer', 'CAD Design Engineer', 'QA/QC Engineer', 'Lead Piping Designer', 'Civil Engineer Side', 'IT Hardware Network Engineer', 'Bim Engineer', 'Tool Room Engineer', 'Heating Air Conditioning Design Engineer', 'Web Development Team Lead', 'Static Equipment Engineer', 'Design Application Engineer', 'Graphic Software Engineer', 'Lead Consultant', 'Junior Engineer Electrical', 'Aerospace Engineer', 'Sr. Engineer', 'Field Support Engineer', 'Shripriya', 'Supply Chain Engineer', 'Customer Service Engineer', 'Project Lead Developer', 'Service Delivery Engineer', 'Design Engineer Research & Development', 'Catalog Lead', 'Process Design Engineer', 'VLSI Design Engineer', 'Database Engineer', 'Site Reliability Engineer', 'Management Engineer', 'Lead Quality Engineer', 'Working as a client Engineer and site Engineer', 'Lead Application Developer', 'Btech as a Petroleum Engineer', 'Cero Design Engineer', 'Trainee Software Engineer', 'Assistant System Engineer', 'Marketing Team Lead', 'Senior Principal Engineer', 'Civil Engineer Supervisor', 'Lead Data Analyst', 'Senior Application Support Engineer', 'Mainframe Engineer', 'Civil Site Engineering Fresher Wanted And Design Engineer', 'senior Engineer Officer', 'Validation Engineer', 'Electrical  Automation Engineer', 'Civil Engineer  Project Manager', 'Application Development Engineer', 'System Validation Engineer', 'L3 Engineer', 'Autocad Engineer', 'Project and Design Engineer', 'Water Engineer', 'Physical Design Engineer', 'Autocad Design Engineer', 'Quality Inspection Engineer', 'Civil Billing & Planning Engineer', 'Packaging Engineer', 'Mep Site Engineer', 'Electronic Telecommunication Engineer', 'Quantity Surveyor/Billing Engineer', 'Information Technology Support Engineer', 'Verification & Validation Engineer', 'Application System Engineer', 'Quantity Engineer', 'Aws Devops Engineer', 'Trainee Project Engineer', 'Trainee Production Engineer', 'Datacenter Engineer', 'BE Civil Engineer', 'Computer Hardware And Network Engineer', 'Senior Design Verification Engineer', 'Lead Generation sales marketing', 'Performance Test Engineer', 'User Experience Engineer', 'Cisco Engineer', 'VLSI Engineer', 'AcAc Maintenance Engineer', 'Qa Qc Engineer', 'Testing & Commissioning Engineer', 'Assistant Testing Engineer', 'Senior Engineer Civil', 'Quality Team Lead', 'Instrumentation Design Engineer', 'Trainee Design Engineer', 'Mining Engineer', 'Graduate Engineer', 'Warehouse Lead', 'Senior Validation Engineer', 'Senior Engineer Purchase', 'Zonal Lead', 'NDT Engineer', 'Testing Lead', 'Verification Validation Engineer', 'Information Technology Software Engineer', 'Analysis', 'Network Lead', 'Junior Process Engineer', 'Lead Technician', 'Software Automation Engineer', 'Lead Test Engineer', 'Network Operations Engineer', 'Mechanical Engineer graduate', 'Proposal Engineer', 'Bms Engineer', 'Lead Technical Architect', 'VOIP Engineer', 'EDP Engineer', 'Mineral Process Engineer', 'Lead Dotnet Developer', 'Electrical Testing Engineer', 'Trainee Marine Engineer', 'Senior QA QC Engineer', 'Engineer fresher', 'Design And Development Engineer', 'Operations Team Lead', 'Control Design Engineer', 'Cctv Engineer', 'Engineer In Charge', ' Simulation Engineer', 'SEO Executive', 'Client Relationship Lead', 'Electronics & Communication Engineer', ' Application Engineer', 'Team Lead Recruitment', 'Project coordinator, Estimation & Billing Engineer', ' Site Electrical Engineer', 'Sr. Desktop Engineer', 'Senior Structural Engineer', ' Electronics & Communication Engineer', 'Lead Specialist', 'Network Engineer Trainee', 'Automobile', 'Project & Planning Engineer', 'Divisional Engineer', 'Senior Implementation Engineer', 'Software Engineer Dotnet', 'Build And Release Engineer', 'SCADA Engineer', 'Assistant Civil Engineer', ' GIS Engineer', 'Computer Hardware And Networking Engineer', 'Design & Proposal Engineer', ' O&M Engineer', 'Omrc Engineer', 'Noc Engineer', 'Electrical maintanace Engineer', 'Trc Engineer', 'D & D Engineer', 'Voice Support Engineer', 'Operating Engineer Trainee', 'Electrical Engineer Trainee', ' Plc And Electrical Control Panel Engineer', 'Junior Executive Engineer', 'Field Test Engineer', 'Digital Lead -Web & Ecom', 'Service Desk Lead', ' Diagnostic Engineer', 'Civil Site And Design Engineer', 'Working as Graduate Engineer Trainee at Rising Star Mobile India Private Limited (FOXCONN),Chennai', 'Web Engineer', 'Research Engineer', 'Civil Construction Engineer', 'Highway Engineer', '    \\t\\t\\t\\t\\t\\t\\t\\t\\t\\t\\t\\t\\t       \\t\\t\\t\\t\\t\\t\\t\\t\\t\\t\\t\\t\\t\\t      \\t\\t\\t\\t\\t\\t\\t\\t\\t\\t\\t\\t\\t       \\t\\t\\t\\t\\t\\t\\t\\t\\t\\t\\t\\t\\t\\t      \\t\\t\\t\\t\\t\\t\\t\\t\\t\\t\\t\\t\\t       \\t\\t\\t\\t\\t\\t\\t\\t\\t\\t\\t\\t\\t\\t   Team Lead', 'Civil Design Engineer', 'Marketing Lead', 'Ceramic Engineer', 'Junior Planning Engineer', 'Landscape Engineer', 'Manufacturing Processes cad cam engineer production Engineer', 'Executive Instrumentation Engineer', 'Software Engineer II', 'Logistics Engineer', 'Bts Engineer', 'Executive Quality Engineer', 'Mechatronics Engineer', 'Lead Generation Specialist', 'Control Engineer', 'Chip And Component Level Engineer', 'Industrial Sales Engineer', 'Tools Development Engineer', 'Quality Production', 'Assistant Executive Engineer', 'Chemical Design Engineer', '    \\t\\t\\t\\t\\t\\t\\t\\t\\t\\t\\t\\t\\t       \\t\\t\\t\\t\\t\\t\\t\\t\\t\\t\\t\\t\\t\\t   Mechanical Engineer Production', 'Lead Application Engineer', 'System Test Engineer', 'Jr PCB Layout Engineer', 'Production & Planning Engineer', 'Assistant Engineer Production', 'Senior Project Lead', 'System Lead', 'Test Lead', 'Analog Design Engineer', 'Senior Design & Development Engineer', 'Quality Assurance Quality Control', 'Diploma Engineer', 'Techncal Support Engineer', 'Lead Java Developer', 'Senior Information Technology System Engineer', 'Associate Engineer Electrical Maintenance', 'Diploma Civil Engineer', 'Civil Autocad Engineer', 'Customer Engineer', 'Regional Engineer', 'Software Engineer Technical Lead', 'Information Technology System Engineer', 'Veterinary Doctor', 'Telecom Network Engineer', 'Section Engineer', 'Meteorological Engineer', 'Bridge Design Engineer', 'Civil Engineer (road)', 'Principal Design Engineer', 'Software Technical Lead', 'Electrical &amp; Electronic Engineer', 'Computer Hardware And Software Engineer', 'Control Room Engineer', 'Rotating Equipment Engineer', 'Lead Operations', 'Electrical Electronic Engineer', 'Web Application Engineer', 'Lead Management', 'SCM Engineer', 'Unility Maintenace Engineer', 'New Product Development Engineer', 'Lead Generation field sales Marketing', ' Business Development Engineer', 'Technical Project Lead', 'Process Engineer', 'Associate Design Engineer', 'Estimation Engineer', 'Quality Engineer Mechanical', 'Technology Engineer', 'Costruction Engineer', ' New Product Development Engineer', 'Electrical Engineer oil and gas', 'Senior Software Quality Engineer', 'Sales', 'Business Development Engineer', 'Software Design Engineer', 'Engineer Vendor Development', ' Test Lead', 'IT Support Engineer L2', 'Windows Engineer', 'Engineer Project & Development', 'Business Engineer', 'Instrumentation &amp; Control Engineer', 'Senior Embedded Software Engineer', 'Auto Cad Site Engineer', 'Hardware Network Engineer', 'Trainee Mechanical Engineer', 'Group Engineer', 'Engineer Trainee', 'Network Executive Engineer', 'Remote Engineer', 'desktop support Engineer L1', 'Integration Engineer', 'Sr.strutural Design Engineer', 'Drafting Engineer', 'ELV Engineer', 'Quantity Surveyor and Billing Engineer', 'Senior IT Engineer', 'Technical Service Engineer', 'Component Design Engineer', 'Pro Engineer', 'Hardware Service Engineer', ' CNC Engineer', 'Mechanic', 'Assistant Mep Engineer', 'Senior MEP Engineer', 'Assistant Shift Engineer', 'Mechanical Piping Engineer', 'Agriculture Engineer', 'Electrical Field Engineer', 'Senior Site Engineer', 'Software Engineer trainee', 'Production', 'QA QC Engineer (Civil engineer )', 'Network Service Engineer', 'Sr.Sales Engineer', 'Lead Design Engineer', 'Process Team Lead', 'Operations Lead', 'Civil Engineer Fresher', 'Senior Project Engineer', 'Platform Engineer', '    \\t\\t\\t\\t\\t\\t\\t\\t\\t\\t\\t\\t\\t       \\t\\t\\t\\t\\t\\t\\t\\t\\t\\t\\t\\t\\t\\t   Technical Engineer', 'Senior Security Engineer', 'Business Intelligence Engineer', 'Graduate Trainee Engineer', 'Cade Engineer', 'Lead Security Engineer', 'Production &amp; Quality Engineer', 'Civil Site Engineer Fresher', 'Associate Project Engineer', 'Electrical & Electronic Engineer', 'Lead Administrator', 'Telecommunication Engineer', 'Residential Engineer', 'Project Team Lead', 'Designer', 'Service Desk Engineer', 'System Software Engineer', 'Information Security Engineer', 'Research Lead', 'Design Engineer (Mechanical)', 'Materials Engineer', 'Engineer Quality Control', 'Telecaller', 'Operations Engineer', 'Project & Development Engineer', 'Level 2 Engineer', 'Failure Analysis Engineer', 'Lead counsaltant', 'Qa Engineer products development', 'Executive Engineer', 'Quality Test Engineer', 'Tools Engineer', 'Network Development Engineer', 'Lab Technician', 'Power Plant Engineer', 'Build Engineer', 'Senior Cad Engineer', 'Mechanical Design and Drafting Engineer', 'Requirements Engineer', 'Technical Assistant Engineer', 'Knowledge Engineer', 'Interface Engineer', 'Engineer Execution', 'Biomedical Engineer', 'Product Lead'}\n"
     ]
    }
   ],
   "source": [
    "name_to_list_of_parents_mapping = {}\n",
    "\n",
    "def getParents(skills):\n",
    "    possible_parent_skills = set([])\n",
    "    \n",
    "    for skill in possible_skills:\n",
    "        skill_name = db.skills.find_one({'_id' : skill})['name']\n",
    "        parent = skill_parent_dict[skill_name]\n",
    "        possible_parent_skills.add(parent)\n",
    "        \n",
    "    return possible_parent_skills\n",
    "\n",
    "\n",
    "for name in name_to_list_of_possible_skills_mapping:\n",
    "    possible_skills = name_to_list_of_possible_skills_mapping[name]\n",
    "    \n",
    "    parents = getParents(possible_skills)\n",
    "    \n",
    "    name_to_list_of_parents_mapping[name] = parents\n",
    "    \n",
    "\n",
    "print(name_to_list_of_parents_mapping['Android Lead Engineer'])"
   ]
  },
  {
   "cell_type": "code",
   "execution_count": 43,
   "metadata": {},
   "outputs": [
    {
     "name": "stdout",
     "output_type": "stream",
     "text": [
      "True\n"
     ]
    }
   ],
   "source": [
    "import pickle\n",
    "\n",
    "with open('name_to_list_of_parents_mapping.pickle', 'wb') as handle:\n",
    "    pickle.dump(name_to_list_of_parents_mapping, handle, protocol=pickle.HIGHEST_PROTOCOL)\n",
    "\n",
    "with open('name_to_list_of_parents_mapping.pickle', 'rb') as handle:\n",
    "    b = pickle.load(handle)\n",
    "\n",
    "print (name_to_list_of_parents_mapping == b)"
   ]
  },
  {
   "cell_type": "code",
   "execution_count": 44,
   "metadata": {},
   "outputs": [
    {
     "name": "stdout",
     "output_type": "stream",
     "text": [
      "{'Data Entry Operator , Android Developer', 'Online Executive', 'Online Data Entry Operator from home', 'Data Entry Operator,front office', 'Online Advertising', 'clerk(bank), Office Assistant, Data Entry', 'Online part time job', 'Teacher,Data Entry Operetor', 'Computer Data Entry Operator, Typing', 'Clerical work Data Entry Operator Office Assistant Accountant', 'Online Business', 'Entry Tax', 'Data Entry Operator, typist', 'Aadhar Card Supervisor, Election Commission Data Entry Operator, Logistics Operations & Payments Process & Create DSR Daley Shipment Report, Maintain Excel Sheet.', 'Entry Level IT Technician', 'Work Home Online', 'Data Entry Operator ,surveyour', 'Data Entry Oparetor marketing', 'Online Banking', 'Data Entry Operator, mis executive, back office executive', 'Online Official Work', 'Computer Data Entry Operator costumer support', 'Online Marketing/Data entry', 'Offline Data Entry', '    \\t\\t\\t\\t\\t\\t\\t\\t\\t\\t\\t\\t\\t       \\t\\t\\t\\t\\t\\t\\t\\t\\t\\t\\t\\t\\t\\t  Data Entry Operator', 'Data Entry Operator, accountant', 'Online Reputation Management', ' Online Reputation Management', 'Online Ad Posting', 'Online teacher', 'Data Entry Operator, tally ERP 9 with gst', 'Data Entry Operator, cce ,typing', 'Online Editor', 'Data Entry Operator, accounts &billing', 'Online form filling', 'Hardware. Online marketing', 'Data Entry Operator/Stenographer', 'Online Maths Tutor', 'Entry Level Analyst', 'Online Specialist', 'Data Entry Operator,Human resource manager', 'Data Entry Operator, back office, backend, computer operator', ' I have an excellent understanding of Indian Applicable Laws & Online Forms Filing Procedures', 'Data Entry Operator,Data Analyst, Web design', 'Online Selling', 'Sr Manager Business Development Online Market Place', ' Data Entry Clerk', 'Online Tourism Promoter', ' Journal Entry', 'Online Chat', 'Data Entry , copy typing', 'Data Entry operator / Back office Executive', 'Data Entry Operator Computer Operator', '•\\tBusiness Model •\\tDistribution Channel Building •\\tSales Support •\\tFinancial Technology •\\tChannel Management •\\tMarket Entry •\\tIT services', 'Data Entry Operator, back office, backend', 'Data Entry Operater', 'Part Time Data Entry', 'Entry Level Accounting', 'Online Promoter', 'Data Entry Operator, Business Development Executive', 'Entry Level Financial Analyst', 'Data Entry Operator,  MS Office ,banking operation, receptionist, computer operator', 'Online Tutor', 'Data Entry Clerk, secretary, office assistant, receptionist, librarian, back office', 'Data Entry jobs', 'Online', 'Entry Level Manager', 'Data Entry Operator(stenogh)', 'Data Entry Operator, software', 'Data Entry Operater, Tellcaller,Mannual Testing', 'Sales Entry', 'Shripriya', 'Online Merchandising', 'Online Code Teacher', 'Entry Level Office Clerk', 'Data Entry Operator and ducoments controller', 'Sales', 'Entry', 'Delivery Boy, Office Assistant, Peon , Date Entry operator, Shroom sells executive, etc.', ' Online selling', 'Data Entry , networking', 'Govt. Offices Data Entry Executive/Private Offices Data Entry/Home Based Data Entry Executive', 'Purchase Order Entry', ' Data Entry Operator', 'Data Entry Operator..bpo', 'Entry Level Marketing', 'Entry Level', 'Online Reputation Engineer', 'Online Media', 'BPO / Data Entry', 'Data Entry Operator only Fresher can apply', 'Data Entry Operator, data entry clerk, office attendent, cashier', 'Data Entry / Back office', 'Back Office Executive', 'XML Prgrammer, Data Entry', 'Online Work From Home', 'Computer Data Entry Operator, Driver, Security guard officer', 'Entry Level Business Development', ' Computer Data Entry Operator', 'Data Entry Operator,  MS Office ,banking operation', 'Typing, Copy Paste, Data Entry', 'Online Internet Marketing', 'Entry data', 'Data Entry Operator, back office', 'Data Entry Operator, back office, operations', 'Data Entry & Back Office Executive', 'Entry Service Desk Specialist', 'Online Bidder', 'Online / Offline Merchandiser, Buyer with 8 years + experience in retail industry (Babycare, Footwear, Garment sector).', 'Data Entry Operator,', 'Data Entry , captcha entry , paragraph writing', 'Computer Operator & Data Entry', ' Online Cooking Classes', 'Data Entry Operator office assistant', 'Journal Entry', 'Computer Data Entry Operator, graphic design, back office'}\n"
     ]
    }
   ],
   "source": [
    "print(b['Online Data Entry'])"
   ]
  }
 ],
 "metadata": {
  "kernelspec": {
   "display_name": "Python 3",
   "language": "python",
   "name": "python3"
  },
  "language_info": {
   "codemirror_mode": {
    "name": "ipython",
    "version": 3
   },
   "file_extension": ".py",
   "mimetype": "text/x-python",
   "name": "python",
   "nbconvert_exporter": "python",
   "pygments_lexer": "ipython3",
   "version": "3.6.8"
  }
 },
 "nbformat": 4,
 "nbformat_minor": 4
}
