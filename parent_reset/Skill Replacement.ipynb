{
 "cells": [
  {
   "cell_type": "code",
   "execution_count": 1,
   "metadata": {},
   "outputs": [],
   "source": [
    "import ssl \n",
    "from pymongo import MongoClient"
   ]
  },
  {
   "cell_type": "code",
   "execution_count": 2,
   "metadata": {},
   "outputs": [],
   "source": [
    "client = MongoClient('127.0.0.1:27017')"
   ]
  },
  {
   "cell_type": "code",
   "execution_count": 3,
   "metadata": {},
   "outputs": [
    {
     "name": "stdout",
     "output_type": "stream",
     "text": [
      "['skills', 'functionalareas']\n"
     ]
    }
   ],
   "source": [
    "db = client.the_incircle_dev_new\n",
    "print(db.list_collection_names())"
   ]
  },
  {
   "cell_type": "code",
   "execution_count": 4,
   "metadata": {},
   "outputs": [],
   "source": [
    "# Reading an excel file using Python\n",
    "import xlrd\n",
    "from bson.objectid import ObjectId"
   ]
  },
  {
   "cell_type": "code",
   "execution_count": 5,
   "metadata": {},
   "outputs": [],
   "source": [
    "# Give the location of the file\n",
    "loc = (\"skill_replacement_list.xls\")"
   ]
  },
  {
   "cell_type": "code",
   "execution_count": 9,
   "metadata": {},
   "outputs": [],
   "source": [
    "# To open Workbook\n",
    "wb = xlrd.open_workbook(loc)\n",
    "sheet = wb.sheet_by_index(0)"
   ]
  },
  {
   "cell_type": "code",
   "execution_count": 13,
   "metadata": {},
   "outputs": [
    {
     "name": "stdout",
     "output_type": "stream",
     "text": [
      "Construction Welder\n"
     ]
    }
   ],
   "source": [
    "# For row 0 and column 0\n",
    "print(sheet.cell_value(33908, 3))"
   ]
  },
  {
   "cell_type": "code",
   "execution_count": 27,
   "metadata": {},
   "outputs": [],
   "source": [
    "row_min = 0\n",
    "row_max = 33909\n",
    "\n",
    "col_min = 0\n",
    "col_max = 4"
   ]
  },
  {
   "cell_type": "code",
   "execution_count": 61,
   "metadata": {},
   "outputs": [
    {
     "name": "stdout",
     "output_type": "stream",
     "text": [
      "Column1\n",
      "25836.0\n",
      "\n",
      "True and same :  26493\n",
      "True and different :  2846\n",
      "False and same :  1056\n",
      "False and different :  3511\n",
      "Accounted for : 33906\n"
     ]
    }
   ],
   "source": [
    "true_and_same_count = 0\n",
    "true_and_diff_count = 0\n",
    "\n",
    "false_and_same_count = 0\n",
    "false_and_diff_count = 0\n",
    "\n",
    "for row in range(0, row_max):\n",
    "    # Number of Trues where values are different\n",
    "    # Number of Trues where values are same\n",
    "    skill_id = sheet.cell_value(row, 1)\n",
    "    original_skill = sheet.cell_value(row, 2)\n",
    "    replacement_skill = sheet.cell_value(row, 3)\n",
    "    truth_val = sheet.cell_value(row, 4)\n",
    "    if (original_skill == replacement_skill):\n",
    "        if((truth_val == 'True') | (truth_val == 'TRUE') | (truth_val == 'Ture') | (truth_val == 'TURE') | \n",
    "           (truth_val == 1)):\n",
    "            true_and_same_count = true_and_same_count + 1\n",
    "        elif((truth_val == 'False') | (truth_val == 'FALSE') | (truth_val == 'Fasle') | \n",
    "             (truth_val == 'FASLE') | (truth_val == 'Fales') | (truth_val == 'FALES')| (truth_val == 0)):\n",
    "            false_and_same_count = false_and_same_count + 1\n",
    "            db.skills.delete_one({'_id' : ObjectId(skill_id)})\n",
    "        else:\n",
    "            print(sheet.cell_value(row, 0))\n",
    "\n",
    "    else:\n",
    "        if((truth_val == 'True') | (truth_val == 'TRUE') | (truth_val == 'Ture') | (truth_val == 'TURE') | \n",
    "           (truth_val == 1)):\n",
    "            true_and_diff_count = true_and_diff_count + 1\n",
    "            replace_skill(skill_id, replacement_skill)\n",
    "        elif((truth_val == 'False') | (truth_val == 'FALSE') | (truth_val == 'Fasle') | \n",
    "             (truth_val == 'FASLE') | (truth_val == 'Fales') | (truth_val == 'FALES') | (truth_val == 0)):\n",
    "            false_and_diff_count = false_and_diff_count + 1\n",
    "            db.skills.delete_one({'_id' : ObjectId(skill_id)})\n",
    "        else:\n",
    "            print(sheet.cell_value(row, 0))\n",
    "\n",
    "    # Number of Falses where values are different\n",
    "    # Number of Falses where values are same\n",
    "    accounted_for = true_and_same_count + true_and_diff_count + false_and_same_count + false_and_diff_count\n",
    "\n",
    "    \n",
    "print('True and same : ', true_and_same_count)\n",
    "print('True and different : ', true_and_diff_count)\n",
    "print('False and same : ', false_and_same_count)\n",
    "print('False and different : ', false_and_diff_count)\n",
    "print('Accounted for :', accounted_for)"
   ]
  },
  {
   "cell_type": "code",
   "execution_count": 60,
   "metadata": {},
   "outputs": [],
   "source": [
    "def replace_skill(sk_id, replacement_name):\n",
    "    db.skills.update_one\n",
    "    (\n",
    "        {\n",
    "            '_id': ObjectId(sk_id)\n",
    "        }, \n",
    "\n",
    "        {\n",
    "          \"$set\": { \n",
    "           'name': replacement_name\n",
    "          }\n",
    "\n",
    "        }\n",
    "    )\n",
    "#replace_skill('5f7ef8d57d5d3a013307ddb7', 'Tally')\n"
   ]
  },
  {
   "cell_type": "code",
   "execution_count": 58,
   "metadata": {},
   "outputs": [
    {
     "data": {
      "text/plain": [
       "<pymongo.results.DeleteResult at 0x7fcbc0531f88>"
      ]
     },
     "execution_count": 58,
     "metadata": {},
     "output_type": "execute_result"
    }
   ],
   "source": [
    "#db.skills.delete_one({'_id' : ObjectId('5f7ef8d57d5d3a013307ddb7')})"
   ]
  },
  {
   "cell_type": "code",
   "execution_count": null,
   "metadata": {},
   "outputs": [],
   "source": []
  }
 ],
 "metadata": {
  "kernelspec": {
   "display_name": "Python 3",
   "language": "python",
   "name": "python3"
  },
  "language_info": {
   "codemirror_mode": {
    "name": "ipython",
    "version": 3
   },
   "file_extension": ".py",
   "mimetype": "text/x-python",
   "name": "python",
   "nbconvert_exporter": "python",
   "pygments_lexer": "ipython3",
   "version": "3.6.8"
  }
 },
 "nbformat": 4,
 "nbformat_minor": 4
}
